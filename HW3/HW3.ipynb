{
 "cells": [
  {
   "cell_type": "code",
   "execution_count": 139,
   "metadata": {},
   "outputs": [],
   "source": [
    "import numpy as np \n",
    "import matplotlib.pyplot as plt"
   ]
  },
  {
   "cell_type": "code",
   "execution_count": 140,
   "metadata": {},
   "outputs": [],
   "source": [
    "from sklearn.datasets import load_breast_cancer\n",
    "from sklearn.model_selection import train_test_split\n",
    "from sklearn.metrics import accuracy_score, precision_score, recall_score, f1_score"
   ]
  },
  {
   "cell_type": "code",
   "execution_count": 141,
   "metadata": {},
   "outputs": [],
   "source": [
    "np.random.seed(42)"
   ]
  },
  {
   "cell_type": "code",
   "execution_count": 142,
   "metadata": {},
   "outputs": [
    {
     "name": "stdout",
     "output_type": "stream",
     "text": [
      "Training set size: 341\n",
      "Validation set size: 114\n",
      "Test set size: 114\n"
     ]
    }
   ],
   "source": [
    "# Q4 part (a)\n",
    "# Load the breast cancer dataset\n",
    "data = load_breast_cancer()\n",
    "X = data.data\n",
    "y = data.target\n",
    "\n",
    "# Q4 part (b)\n",
    "# First, split into train + validation (80%) and test (20%)\n",
    "X_train_val, X_test, y_train_val, y_test = train_test_split(\n",
    "    X, y, test_size=0.2, random_state=42, stratify=y\n",
    ")\n",
    "\n",
    "# Then, split train + validation into training (60%) and validation (20%)\n",
    "X_train, X_val, y_train, y_val = train_test_split(\n",
    "    X_train_val, y_train_val, test_size=0.25, random_state=42, stratify=y_train_val\n",
    ")\n",
    "\n",
    "print(\"Training set size:\", X_train.shape[0])\n",
    "print(\"Validation set size:\", X_val.shape[0])\n",
    "print(\"Test set size:\", X_test.shape[0])"
   ]
  },
  {
   "cell_type": "code",
   "execution_count": 143,
   "metadata": {},
   "outputs": [
    {
     "name": "stdout",
     "output_type": "stream",
     "text": [
      "Training set:\n",
      "{0: 127, 1: 214}\n",
      "\n",
      "Validation set:\n",
      "{0: 43, 1: 71}\n",
      "\n",
      "Test set:\n",
      "{0: 42, 1: 72}\n"
     ]
    }
   ],
   "source": [
    "# Q4 part (c)\n",
    "print(\"Training set:\")\n",
    "unique, counts = np.unique(y_train, return_counts=True)\n",
    "print(dict(zip(unique, counts)))\n",
    "\n",
    "print(\"\\nValidation set:\")\n",
    "unique, counts = np.unique(y_val, return_counts=True)\n",
    "print(dict(zip(unique, counts)))\n",
    "\n",
    "print(\"\\nTest set:\")\n",
    "unique, counts = np.unique(y_test, return_counts=True)\n",
    "print(dict(zip(unique, counts)))"
   ]
  },
  {
   "cell_type": "code",
   "execution_count": 144,
   "metadata": {},
   "outputs": [],
   "source": [
    "# Q3\n",
    "class LogisticRegressionSGD:\n",
    "    def __init__(self, learning_rate=0.01, batch_size=32, max_iter=1000, random_state=None):\n",
    "        \"\"\"\n",
    "        Initialize the logistic regression model.\n",
    "        \n",
    "        Parameters:\n",
    "        - learning_rate: The fixed learning rate for SGD\n",
    "        - batch_size: The number of samples per mini-batch\n",
    "        - max_iter: The maximum number of iterations over the training set\n",
    "        - random_state: Seed for reproducibility\n",
    "        \"\"\"\n",
    "        self.learning_rate = learning_rate\n",
    "        self.batch_size = batch_size\n",
    "        self.max_iter = max_iter\n",
    "        self.random_state = random_state\n",
    "        self.weights = None\n",
    "\n",
    "    def sigmoid(self, z):\n",
    "        # Clip the values of z to avoid overflow in np.exp\n",
    "        z = np.clip(z, -500, 500)\n",
    "        return 1 / (1 + np.exp(-z))\n",
    "\n",
    "\n",
    "    def fit(self, X, y):\n",
    "        \"\"\"\n",
    "        Fit the logistic regression model using mini-batch SGD.\n",
    "        \n",
    "        Parameters:\n",
    "        - X: Input features\n",
    "        - y: Binary target values\n",
    "        \n",
    "        Returns:\n",
    "        - self: Fitted model\n",
    "        \"\"\"\n",
    "        np.random.seed(self.random_state)\n",
    "        n_samples, n_features = X.shape\n",
    "        \n",
    "        # Add bias term to features\n",
    "        X_bias = np.hstack([np.ones((n_samples, 1)), X])\n",
    "        \n",
    "        # Initialize weights randomly from a standard Gaussian distribution\n",
    "        self.weights = np.random.randn(n_features + 1)\n",
    "        \n",
    "        # Perform mini-batch SGD for max_iter epochs\n",
    "        for epoch in range(self.max_iter):\n",
    "            # Shuffle the training data at the beginning of each epoch\n",
    "            indices = np.random.permutation(n_samples)\n",
    "            X_bias_shuffled = X_bias[indices]\n",
    "            y_shuffled = y[indices]\n",
    "            \n",
    "            # Process mini-batches\n",
    "            for start in range(0, n_samples, self.batch_size):\n",
    "                end = start + self.batch_size\n",
    "                X_batch = X_bias_shuffled[start:end]\n",
    "                y_batch = y_shuffled[start:end]\n",
    "                \n",
    "                # Compute predictions for the batch\n",
    "                predictions = self.sigmoid(np.dot(X_batch, self.weights))\n",
    "                \n",
    "                # Compute the gradient of the negative log-likelihood\n",
    "                gradient = np.dot(X_batch.T, (predictions - y_batch)) / X_batch.shape[0]\n",
    "                \n",
    "                # Update weights using the learning rate\n",
    "                self.weights -= self.learning_rate * gradient\n",
    "        \n",
    "        return self\n",
    "\n",
    "    def predict_proba(self, X):\n",
    "        \"\"\"\n",
    "        Predict probability estimates for input data X\n",
    "        \n",
    "        Parameters:\n",
    "        - X: Input features\n",
    "        \n",
    "        Returns:\n",
    "        - Probabilities for the positive class\n",
    "        \"\"\"\n",
    "        n_samples = X.shape[0]\n",
    "        X_bias = np.hstack([np.ones((n_samples, 1)), X])\n",
    "        return self.sigmoid(np.dot(X_bias, self.weights))\n",
    "\n",
    "    def predict(self, X, threshold=0.5):\n",
    "        \"\"\"\n",
    "        Predict binary class labels for input data X.\n",
    "        \n",
    "        Parameters:\n",
    "        - X: Input features\n",
    "        - threshold: Decision threshold to classify samples\n",
    "        \n",
    "        Returns:\n",
    "        - Predicted binary class labels\n",
    "        \"\"\"\n",
    "        proba = self.predict_proba(X)\n",
    "        return (proba >= threshold).astype(int)"
   ]
  },
  {
   "cell_type": "code",
   "execution_count": 145,
   "metadata": {},
   "outputs": [
    {
     "name": "stdout",
     "output_type": "stream",
     "text": [
      "Learning Rate: 0.01, Accuracy: 0.9035, Precision: 0.9420, Recall: 0.9028, F1: 0.9220\n",
      "Learning Rate: 0.001, Accuracy: 0.9386, Precision: 0.9221, Recall: 0.9861, F1: 0.9530\n",
      "Learning Rate: 0.0001, Accuracy: 0.9211, Precision: 0.9437, Recall: 0.9306, F1: 0.9371\n"
     ]
    }
   ],
   "source": [
    "# Q4 part (d)\n",
    "learning_rates = [0.01, 0.001, 0.0001]\n",
    "results = []\n",
    "\n",
    "# Loop over each learning rate\n",
    "for lr in learning_rates:\n",
    "    model = LogisticRegressionSGD(\n",
    "        learning_rate=lr,\n",
    "        batch_size=32,\n",
    "        max_iter=1000,\n",
    "        random_state=42\n",
    "    )\n",
    "    \n",
    "    # Train the model on the training set\n",
    "    model.fit(X_train, y_train)\n",
    "    \n",
    "    # Predict on the test set\n",
    "    y_pred = model.predict(X_test)\n",
    "    \n",
    "    # Q4 part (e)\n",
    "    # Scoring metrics\n",
    "    accuracy = accuracy_score(y_test, y_pred)\n",
    "    precision = precision_score(y_test, y_pred)\n",
    "    recall = recall_score(y_test, y_pred)\n",
    "    f1 = f1_score(y_test, y_pred)\n",
    "    \n",
    "    # Append to results list\n",
    "    results.append({'learning_rate': lr, 'accuracy': accuracy, 'precision': precision, 'recall': recall, 'f1': f1}) \n",
    "\n",
    "# Display the results\n",
    "for res in results:\n",
    "    print(f\"Learning Rate: {res['learning_rate']}, Accuracy: {res['accuracy']:.4f}, Precision: {res['precision']:.4f}, Recall: {res['recall']:.4f}, F1: {res['f1']:.4f}\")"
   ]
  },
  {
   "cell_type": "markdown",
   "metadata": {},
   "source": [
    "**Summary:** By experimenting with different learning rates, it seems that the best one is $\\boxed{\\text{lr} = 0.001}$. 0.01 is too large of a learning rate and 0.0001 is too small, so the best learning rate in this case given the max number of iterations is indeed 0.001."
   ]
  }
 ],
 "metadata": {
  "kernelspec": {
   "display_name": "Python 3",
   "language": "python",
   "name": "python3"
  },
  "language_info": {
   "codemirror_mode": {
    "name": "ipython",
    "version": 3
   },
   "file_extension": ".py",
   "mimetype": "text/x-python",
   "name": "python",
   "nbconvert_exporter": "python",
   "pygments_lexer": "ipython3",
   "version": "3.11.9"
  }
 },
 "nbformat": 4,
 "nbformat_minor": 2
}
